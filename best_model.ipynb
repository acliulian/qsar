{
 "cells": [
  {
   "cell_type": "code",
   "execution_count": 5,
   "id": "54a143ea",
   "metadata": {},
   "outputs": [],
   "source": [
    "import pandas as pd\n",
    "from sklearn.model_selection import train_test_split\n",
    "from imblearn.combine import SMOTETomek\n",
    "from sklearn.svm import SVC\n",
    "\n",
    "# Set random seed for reproducibility\n",
    "random_seed = 2\n",
    "\n",
    "# Read data and select columns directly\n",
    "cols_to_select = pd.read_csv('***.csv')['Name'].tolist()\n",
    "df_selected = pd.read_csv('***.csv', index_col='Name', usecols=['Name'] + cols_to_select)\n",
    "\n",
    "# Read data for modeling\n",
    "data = pd.read_csv('***.csv')\n",
    "X = data.drop(['Name', 'Activity'], axis=1)\n",
    "y = data['Activity']\n",
    "\n",
    "# Train-test split\n",
    "X_train, X_test, y_train, y_test = train_test_split(X, y, test_size=0.2, shuffle=True, random_state=random_seed, stratify=y)\n",
    "\n",
    "# Resample the training data\n",
    "smotetomek = SMOTETomek(random_state=random_seed)\n",
    "X_train_resampled, y_train_resampled = smotetomek.fit_resample(X_train, y_train)\n",
    "\n",
    "# Construct and fit the model\n",
    "model = SVC(random_state=random_seed, C=3, gamma=0.09)\n",
    "model.fit(X_train_resampled, y_train_resampled)\n",
    "\n",
    "# Make predictions on the selected columns\n",
    "new_predictions = model.predict(df_selected)\n",
    "\n",
    "# Save predictions to a CSV file\n",
    "new_predictions_df = pd.DataFrame({'Predicted_Activity': new_predictions}, index=df_selected.index)\n",
    "new_predictions_df.to_csv('Ac_predicted.csv')\n"
   ]
  },
  {
   "cell_type": "code",
   "execution_count": null,
   "id": "9f5a368f",
   "metadata": {},
   "outputs": [],
   "source": []
  }
 ],
 "metadata": {
  "kernelspec": {
   "display_name": "Python 3 (ipykernel)",
   "language": "python",
   "name": "python3"
  },
  "language_info": {
   "codemirror_mode": {
    "name": "ipython",
    "version": 3
   },
   "file_extension": ".py",
   "mimetype": "text/x-python",
   "name": "python",
   "nbconvert_exporter": "python",
   "pygments_lexer": "ipython3",
   "version": "3.9.12"
  }
 },
 "nbformat": 4,
 "nbformat_minor": 5
}
